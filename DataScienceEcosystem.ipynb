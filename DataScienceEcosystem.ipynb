{
 "cells": [
  {
   "cell_type": "markdown",
   "id": "8ca58b2a-d765-4234-9954-2c013da00c12",
   "metadata": {},
   "source": [
    "<h1>Data Science Tools and Ecosystem</h1>"
   ]
  },
  {
   "cell_type": "markdown",
   "id": "8b2790d1-f9dc-4e73-96e9-08a1069a2431",
   "metadata": {},
   "source": [
    "<p>In this notebook, Data Science Tools and Ecosystem are summarized.</p>"
   ]
  },
  {
   "cell_type": "markdown",
   "id": "a4543ad8-068f-494a-9bfd-9a295ae04cd3",
   "metadata": {},
   "source": [
    "<h2>Some of the popular languages that Data Scientists use are:</h2>\n",
    "<ol>\n",
    "    <li>Python</li>\n",
    "    <li>R</li>\n",
    "    <li>SQL</li>\n",
    "</ol>"
   ]
  },
  {
   "cell_type": "markdown",
   "id": "5d6f67d5-b9bf-4852-bc3d-f86ca71fe5ea",
   "metadata": {},
   "source": [
    "<h2>Some of the commonly used libraries used by Data Scientists include:\n",
    "</h2>\n",
    "<ol>\n",
    "    <li>NumPy</li>\n",
    "    <li>Pandas</li>\n",
    "    <li>Ploty</li>\n",
    "</ol>"
   ]
  },
  {
   "cell_type": "markdown",
   "id": "4ba3f71d-fe2c-4f6a-80c1-1321d047606d",
   "metadata": {},
   "source": [
    "<table ><th><td>Data Science Tools</td></th><tr><td>Jupyter Notebooks</td></tr><tr><td>R Studio</td></tr><tr><td>Zeppelin Notebooks</td></tr></table>"
   ]
  },
  {
   "cell_type": "markdown",
   "id": "57c7c6d3-5b04-4f77-bbe2-7ad9882feaf7",
   "metadata": {},
   "source": [
    "<h3>Below are a few examples of evaluating arithmetic expressions in Python.</h3>"
   ]
  },
  {
   "cell_type": "code",
   "execution_count": 4,
   "id": "77ca0156-5acf-4d24-aadf-44cfd22ecead",
   "metadata": {},
   "outputs": [
    {
     "data": {
      "text/plain": [
       "17"
      ]
     },
     "execution_count": 4,
     "metadata": {},
     "output_type": "execute_result"
    }
   ],
   "source": [
    "# This a simple arithmetic expression to mutiply then add integers\n",
    "(3*4)+5"
   ]
  },
  {
   "cell_type": "code",
   "execution_count": 5,
   "id": "de6aa6b6-6157-448a-9b9d-4432147b8254",
   "metadata": {},
   "outputs": [
    {
     "data": {
      "text/plain": [
       "3.3333333333333335"
      ]
     },
     "execution_count": 5,
     "metadata": {},
     "output_type": "execute_result"
    }
   ],
   "source": [
    "# This will convert 200 minutes to hours by diving by 60\n",
    "200 / 60"
   ]
  },
  {
   "cell_type": "markdown",
   "id": "af3a19f3-5a4b-42b0-b511-60745debae26",
   "metadata": {},
   "source": [
    "<b>Objectives</b>\n",
    "<ul>\n",
    "    <li>List popular languages for Data Science</li>\n",
    "    <li>Open source tools for data science</li>\n",
    "    <li>Mathematical expressions</li>\n",
    "    <li>Convert minutes to hours</li>\n",
    "    <li>Data scienecel ibraries</li>\n",
    "</ul>"
   ]
  },
  {
   "cell_type": "markdown",
   "id": "ae152bf1-e9b1-4c60-87e5-660163142145",
   "metadata": {},
   "source": [
    "<h2>Author</h2>\n",
    "Mihail Petkov"
   ]
  },
  {
   "cell_type": "code",
   "execution_count": null,
   "id": "43739d78-d069-4fae-9531-c38fe05704d5",
   "metadata": {},
   "outputs": [],
   "source": []
  }
 ],
 "metadata": {
  "kernelspec": {
   "display_name": "Python 3 (ipykernel)",
   "language": "python",
   "name": "python3"
  },
  "language_info": {
   "codemirror_mode": {
    "name": "ipython",
    "version": 3
   },
   "file_extension": ".py",
   "mimetype": "text/x-python",
   "name": "python",
   "nbconvert_exporter": "python",
   "pygments_lexer": "ipython3",
   "version": "3.12.8"
  }
 },
 "nbformat": 4,
 "nbformat_minor": 5
}
